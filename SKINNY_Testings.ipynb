{
  "nbformat": 4,
  "nbformat_minor": 0,
  "metadata": {
    "colab": {
      "provenance": [],
      "authorship_tag": "ABX9TyM7IC5gokSJy5FhxrvnoXa0",
      "include_colab_link": true
    },
    "kernelspec": {
      "name": "python3",
      "display_name": "Python 3"
    },
    "language_info": {
      "name": "python"
    }
  },
  "cells": [
    {
      "cell_type": "markdown",
      "metadata": {
        "id": "view-in-github",
        "colab_type": "text"
      },
      "source": [
        "<a href=\"https://colab.research.google.com/github/wjteng/SKINNY_Testing/blob/main/SKINNY_Testings.ipynb\" target=\"_parent\"><img src=\"https://colab.research.google.com/assets/colab-badge.svg\" alt=\"Open In Colab\"/></a>"
      ]
    },
    {
      "cell_type": "code",
      "execution_count": null,
      "metadata": {
        "id": "JeHPFkuSSgaT"
      },
      "outputs": [],
      "source": [
        "from google.colab import drive\n",
        "drive.mount('/content/gdrive/')\n",
        "import sys\n",
        "\n",
        "\n",
        "!git clone  https://github.com/wjteng/SKINNY_Testings\n",
        "\n",
        "\n",
        "sys.path.insert(0,'/content/SKINNY_Tests')\n",
        "\n",
        "import SLIM as cipher\n",
        "import pandas as pd\n",
        "import train_nets as tn\n",
        "\n",
        "rounds = 3;\n",
        "epoch = 40;\n",
        "diff1 = 0x0000;\n",
        "diff2 = 0x8000;\n",
        "\n",
        "name = str(diff1)+\"_\"+str(diff2)+\"_r=\"+str(rounds)+\"_epoch=\"+str(epoch);\n",
        "\n",
        "model, h =tn.train_distinguisher(epoch,(diff1,diff2),num_rounds=rounds,depth=10);\n",
        "\n",
        "model.save('/content/gdrive/MyDrive/SKINNY_Tests/'+name);"
      ]
    }
  ]
}