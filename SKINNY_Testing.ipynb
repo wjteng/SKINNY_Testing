{
  "nbformat": 4,
  "nbformat_minor": 0,
  "metadata": {
    "colab": {
      "provenance": [],
      "authorship_tag": "ABX9TyNRyr6FoDk/T5dZklxfdAeH",
      "include_colab_link": true
    },
    "kernelspec": {
      "name": "python3",
      "display_name": "Python 3"
    },
    "language_info": {
      "name": "python"
    }
  },
  "cells": [
    {
      "cell_type": "markdown",
      "metadata": {
        "id": "view-in-github",
        "colab_type": "text"
      },
      "source": [
        "<a href=\"https://colab.research.google.com/github/wjteng/Speck_Testings/blob/main/Speck_Testing.ipynb\" target=\"_parent\"><img src=\"https://colab.research.google.com/assets/colab-badge.svg\" alt=\"Open In Colab\"/></a>"
      ]
    },
    {
      "cell_type": "code",
      "execution_count": null,
      "metadata": {
        "colab": {
          "base_uri": "https://localhost:8080/"
        },
        "id": "5TNtxfEvP9DN",
        "outputId": "d8f3bb8d-cf81-446f-909b-12398526e219"
      },
      "outputs": [
        {
          "output_type": "stream",
          "name": "stdout",
          "text": [
            "Drive already mounted at /content/gdrive/; to attempt to forcibly remount, call drive.mount(\"/content/gdrive/\", force_remount=True).\n",
            "Cloning into 'Speck_Testings'...\n",
            "remote: Enumerating objects: 379, done.\u001b[K\n",
            "remote: Counting objects: 100% (379/379), done.\u001b[K\n",
            "remote: Compressing objects: 100% (140/140), done.\u001b[K\n",
            "remote: Total 379 (delta 236), reused 376 (delta 236), pack-reused 0\u001b[K\n",
            "Receiving objects: 100% (379/379), 122.38 KiB | 17.48 MiB/s, done.\n",
            "Resolving deltas: 100% (236/236), done.\n"
          ]
        }
      ],
      "source": [
        "from google.colab import drive\n",
        "drive.mount('/content/gdrive/')\n",
        "import sys\n",
        "\n",
        "\n",
        "!git clone  https://github.com/wjteng/Speck_Testings\n",
        "\n",
        "\n",
        "sys.path.insert(0,'/content/Speck_Tests')\n",
        "\n",
        "import SLIM as cipher\n",
        "import pandas as pd\n",
        "import train_nets as tn\n",
        "\n",
        "rounds = 3;\n",
        "epoch = 40;\n",
        "diff1 = 0x0000;\n",
        "diff2 = 0x8000;\n",
        "\n",
        "name = str(diff1)+\"_\"+str(diff2)+\"_r=\"+str(rounds)+\"_epoch=\"+str(epoch);\n",
        "\n",
        "model, h =tn.train_distinguisher(epoch,(diff1,diff2),num_rounds=rounds,depth=10);\n",
        "\n",
        "model.save('/content/gdrive/MyDrive/Speck_Tests/'+name);"
      ]
    }
  ]
}
